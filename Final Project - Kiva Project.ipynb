{
 "cells": [
  {
   "cell_type": "markdown",
   "metadata": {},
   "source": [
    "# Introduction"
   ]
  },
  {
   "cell_type": "markdown",
   "metadata": {},
   "source": [
    "Kiva.org is a crowdfunding platform that seeks to provide loans to poor and financially excluded people around the world. Right now they are hand picking who gets the loans. What they want to be able to do is find some way to measure the level of poverty of a borrower so that they can better disperse their funds. For my solution I want to define regions as the country that the borrowers live in."
   ]
  },
  {
   "cell_type": "markdown",
   "metadata": {},
   "source": [
    "# Exploring the given datasets"
   ]
  },
  {
   "cell_type": "code",
   "execution_count": 315,
   "metadata": {
    "collapsed": true
   },
   "outputs": [],
   "source": [
    "import pandas as pd\n",
    "import numpy as np\n",
    "import pylab as pl\n",
    "%matplotlib inline\n",
    "from matplotlib import pyplot as plt\n",
    "plt.style.use('ggplot') # Have a nicer style of the plots\n",
    "\n",
    "kiva_loans = pd.read_csv('kiva_loans.csv')\n",
    "region_locations = pd.read_csv('kiva_mpi_region_locations.csv')\n",
    "loan_theme_ids = pd.read_csv('loan_theme_ids.csv')\n",
    "loan_themes_by_region = pd.read_csv('loan_themes_by_region.csv')"
   ]
  },
  {
   "cell_type": "code",
   "execution_count": 316,
   "metadata": {},
   "outputs": [
    {
     "name": "stdout",
     "output_type": "stream",
     "text": [
      "<class 'pandas.core.frame.DataFrame'>\n",
      "RangeIndex: 671205 entries, 0 to 671204\n",
      "Data columns (total 20 columns):\n",
      "id                    671205 non-null int64\n",
      "funded_amount         671205 non-null float64\n",
      "loan_amount           671205 non-null float64\n",
      "activity              671205 non-null object\n",
      "sector                671205 non-null object\n",
      "use                   666977 non-null object\n",
      "country_code          671197 non-null object\n",
      "country               671205 non-null object\n",
      "region                614405 non-null object\n",
      "currency              671205 non-null object\n",
      "partner_id            657698 non-null float64\n",
      "posted_time           671205 non-null object\n",
      "disbursed_time        668809 non-null object\n",
      "funded_time           622874 non-null object\n",
      "term_in_months        671205 non-null float64\n",
      "lender_count          671205 non-null int64\n",
      "tags                  499789 non-null object\n",
      "borrower_genders      666984 non-null object\n",
      "repayment_interval    671205 non-null object\n",
      "date                  671205 non-null object\n",
      "dtypes: float64(4), int64(2), object(14)\n",
      "memory usage: 102.4+ MB\n"
     ]
    }
   ],
   "source": [
    "kiva_loans.info()"
   ]
  },
  {
   "cell_type": "code",
   "execution_count": 317,
   "metadata": {},
   "outputs": [
    {
     "name": "stdout",
     "output_type": "stream",
     "text": [
      "<class 'pandas.core.frame.DataFrame'>\n",
      "RangeIndex: 2772 entries, 0 to 2771\n",
      "Data columns (total 9 columns):\n",
      "LocationName    984 non-null object\n",
      "ISO             1008 non-null object\n",
      "country         1008 non-null object\n",
      "region          984 non-null object\n",
      "world_region    1008 non-null object\n",
      "MPI             984 non-null float64\n",
      "geo             2772 non-null object\n",
      "lat             892 non-null float64\n",
      "lon             892 non-null float64\n",
      "dtypes: float64(3), object(6)\n",
      "memory usage: 195.0+ KB\n"
     ]
    }
   ],
   "source": [
    "region_locations.info()"
   ]
  },
  {
   "cell_type": "code",
   "execution_count": 318,
   "metadata": {},
   "outputs": [
    {
     "name": "stdout",
     "output_type": "stream",
     "text": [
      "<class 'pandas.core.frame.DataFrame'>\n",
      "RangeIndex: 779092 entries, 0 to 779091\n",
      "Data columns (total 4 columns):\n",
      "id                 779092 non-null int64\n",
      "Loan Theme ID      764279 non-null object\n",
      "Loan Theme Type    764279 non-null object\n",
      "Partner ID         764279 non-null float64\n",
      "dtypes: float64(1), int64(1), object(2)\n",
      "memory usage: 23.8+ MB\n"
     ]
    }
   ],
   "source": [
    "loan_theme_ids.info()"
   ]
  },
  {
   "cell_type": "code",
   "execution_count": 319,
   "metadata": {},
   "outputs": [
    {
     "name": "stdout",
     "output_type": "stream",
     "text": [
      "<class 'pandas.core.frame.DataFrame'>\n",
      "RangeIndex: 15736 entries, 0 to 15735\n",
      "Data columns (total 21 columns):\n",
      "Partner ID            15736 non-null int64\n",
      "Field Partner Name    15736 non-null object\n",
      "sector                15736 non-null object\n",
      "Loan Theme ID         15736 non-null object\n",
      "Loan Theme Type       15736 non-null object\n",
      "country               15736 non-null object\n",
      "forkiva               15736 non-null object\n",
      "region                15736 non-null object\n",
      "geocode_old           1200 non-null object\n",
      "ISO                   15722 non-null object\n",
      "number                15736 non-null int64\n",
      "amount                15736 non-null int64\n",
      "LocationName          15736 non-null object\n",
      "geocode               13662 non-null object\n",
      "names                 13661 non-null object\n",
      "geo                   15736 non-null object\n",
      "lat                   13662 non-null float64\n",
      "lon                   13662 non-null float64\n",
      "mpi_region            15722 non-null object\n",
      "mpi_geo               9671 non-null object\n",
      "rural_pct             14344 non-null float64\n",
      "dtypes: float64(3), int64(3), object(15)\n",
      "memory usage: 2.5+ MB\n"
     ]
    }
   ],
   "source": [
    "loan_themes_by_region.info()"
   ]
  },
  {
   "cell_type": "markdown",
   "metadata": {},
   "source": [
    "Looking at the data the break down of columns we can see that the majority of the data regarding loans is held within the kiva_loans dataset. This is what I want to be looking at most closely. The other data sets serve as additional data related to these loans connected by id numbers. I think these could possibly be used for further informations. \n",
    "\n",
    "First, I want to take a look at the sector column of the kiva_loans dataset."
   ]
  },
  {
   "cell_type": "code",
   "execution_count": 320,
   "metadata": {},
   "outputs": [
    {
     "data": {
      "text/plain": [
       "Agriculture       180302\n",
       "Food              136657\n",
       "Retail            124494\n",
       "Services           45140\n",
       "Personal Use       36385\n",
       "Housing            33731\n",
       "Clothing           32742\n",
       "Education          31013\n",
       "Transportation     15518\n",
       "Arts               12060\n",
       "Health              9223\n",
       "Construction        6268\n",
       "Manufacturing       6208\n",
       "Entertainment        830\n",
       "Wholesale            634\n",
       "Name: sector, dtype: int64"
      ]
     },
     "execution_count": 320,
     "metadata": {},
     "output_type": "execute_result"
    }
   ],
   "source": [
    "un = kiva_loans.sector.value_counts()\n",
    "un"
   ]
  },
  {
   "cell_type": "markdown",
   "metadata": {},
   "source": [
    "This infomation seems to suggest that the people deciding which people are living in poverty and what the people in poverty need help with the most. This can serve as the basis for our metric in determining poverty levels of their borrowers. Another thing that we can also look at that could factor into poverty is housing. Another that we don't see in this data that we could also use is access to water. These are the basics for survival and it makes sense that places where there is not easy access to all three of these things would be areas of extreme poverty. \n"
   ]
  },
  {
   "cell_type": "code",
   "execution_count": 321,
   "metadata": {},
   "outputs": [
    {
     "data": {
      "text/plain": [
       "2313.0"
      ]
     },
     "execution_count": 321,
     "metadata": {},
     "output_type": "execute_result"
    }
   ],
   "source": [
    "kiva_loans.country.value_counts().median()"
   ]
  },
  {
   "cell_type": "markdown",
   "metadata": {},
   "source": [
    "# Gathering External Data"
   ]
  },
  {
   "cell_type": "markdown",
   "metadata": {},
   "source": [
    "The column that I want to add to the kiva_loans data set is the GHI (Global Health Index). We want to see if there will be a correlation between the GHI and the loans"
   ]
  },
  {
   "cell_type": "code",
   "execution_count": 322,
   "metadata": {
    "collapsed": true
   },
   "outputs": [],
   "source": [
    "GHI = pd.read_csv('002_AppendixD.csv')"
   ]
  },
  {
   "cell_type": "code",
   "execution_count": 323,
   "metadata": {},
   "outputs": [
    {
     "data": {
      "text/html": [
       "<div>\n",
       "<style>\n",
       "    .dataframe thead tr:only-child th {\n",
       "        text-align: right;\n",
       "    }\n",
       "\n",
       "    .dataframe thead th {\n",
       "        text-align: left;\n",
       "    }\n",
       "\n",
       "    .dataframe tbody tr th {\n",
       "        vertical-align: top;\n",
       "    }\n",
       "</style>\n",
       "<table border=\"1\" class=\"dataframe\">\n",
       "  <thead>\n",
       "    <tr style=\"text-align: right;\">\n",
       "      <th></th>\n",
       "      <th>country</th>\n",
       "      <th>GHI</th>\n",
       "    </tr>\n",
       "  </thead>\n",
       "  <tbody>\n",
       "    <tr>\n",
       "      <th>0</th>\n",
       "      <td>Afghanistan</td>\n",
       "      <td>33.3</td>\n",
       "    </tr>\n",
       "    <tr>\n",
       "      <th>1</th>\n",
       "      <td>Albania</td>\n",
       "      <td>11.1</td>\n",
       "    </tr>\n",
       "    <tr>\n",
       "      <th>2</th>\n",
       "      <td>Algeria</td>\n",
       "      <td>9.5</td>\n",
       "    </tr>\n",
       "    <tr>\n",
       "      <th>3</th>\n",
       "      <td>Angola</td>\n",
       "      <td>32.5</td>\n",
       "    </tr>\n",
       "    <tr>\n",
       "      <th>4</th>\n",
       "      <td>Argentina</td>\n",
       "      <td>5.4</td>\n",
       "    </tr>\n",
       "  </tbody>\n",
       "</table>\n",
       "</div>"
      ],
      "text/plain": [
       "       country   GHI\n",
       "0  Afghanistan  33.3\n",
       "1      Albania  11.1\n",
       "2      Algeria   9.5\n",
       "3       Angola  32.5\n",
       "4    Argentina   5.4"
      ]
     },
     "execution_count": 323,
     "metadata": {},
     "output_type": "execute_result"
    }
   ],
   "source": [
    "GHI.head()"
   ]
  },
  {
   "cell_type": "markdown",
   "metadata": {},
   "source": [
    "Before merging the data sets lets drop some unneccessary features from the kiva loan data set"
   ]
  },
  {
   "cell_type": "code",
   "execution_count": 324,
   "metadata": {
    "collapsed": true
   },
   "outputs": [],
   "source": [
    "loans = kiva_loans[['country','loan_amount','activity','sector',\n",
    "                    'borrower_genders', 'repayment_interval']]"
   ]
  },
  {
   "cell_type": "code",
   "execution_count": 325,
   "metadata": {},
   "outputs": [
    {
     "data": {
      "text/plain": [
       "country               671205\n",
       "loan_amount           671205\n",
       "activity              671205\n",
       "sector                671205\n",
       "borrower_genders      666984\n",
       "repayment_interval    671205\n",
       "GHI                   630886\n",
       "dtype: int64"
      ]
     },
     "execution_count": 325,
     "metadata": {},
     "output_type": "execute_result"
    }
   ],
   "source": [
    "d = pd.merge(loans,GHI, how='left')\n",
    "d.count()"
   ]
  },
  {
   "cell_type": "code",
   "execution_count": 326,
   "metadata": {},
   "outputs": [
    {
     "data": {
      "text/plain": [
       "country               44294\n",
       "loan_amount           44294\n",
       "activity              44294\n",
       "sector                44294\n",
       "borrower_genders      40073\n",
       "repayment_interval    44294\n",
       "GHI                    3975\n",
       "dtype: int64"
      ]
     },
     "execution_count": 326,
     "metadata": {},
     "output_type": "execute_result"
    }
   ],
   "source": [
    "incomplete_rows = d[d.isnull().any(axis=1)]\n",
    "incomplete_rows.count()"
   ]
  },
  {
   "cell_type": "code",
   "execution_count": 327,
   "metadata": {},
   "outputs": [
    {
     "data": {
      "text/plain": [
       "country               0\n",
       "loan_amount           0\n",
       "activity              0\n",
       "sector                0\n",
       "borrower_genders      0\n",
       "repayment_interval    0\n",
       "GHI                   0\n",
       "dtype: int64"
      ]
     },
     "execution_count": 327,
     "metadata": {},
     "output_type": "execute_result"
    }
   ],
   "source": [
    "d = d.dropna(subset=['GHI'])\n",
    "d = d.dropna(subset=['borrower_genders'])\n",
    "incomplete_rows = d[d.isnull().any(axis=1)]\n",
    "incomplete_rows.count()"
   ]
  },
  {
   "cell_type": "code",
   "execution_count": 328,
   "metadata": {},
   "outputs": [],
   "source": [
    "d.loc[d.GHI == '<5', 'GHI'] = 5\n",
    "d.GHI.unique()\n",
    "d['GHI'] = d['GHI'].apply(pd.to_numeric, errors='coerce')"
   ]
  },
  {
   "cell_type": "code",
   "execution_count": 329,
   "metadata": {},
   "outputs": [
    {
     "data": {
      "text/plain": [
       "country               0\n",
       "loan_amount           0\n",
       "activity              0\n",
       "sector                0\n",
       "borrower_genders      0\n",
       "repayment_interval    0\n",
       "GHI                   0\n",
       "dtype: int64"
      ]
     },
     "execution_count": 329,
     "metadata": {},
     "output_type": "execute_result"
    }
   ],
   "source": [
    "d = d.dropna(subset=['GHI'])\n",
    "incomplete_rows = d[d.isnull().any(axis=1)]\n",
    "incomplete_rows.count()"
   ]
  },
  {
   "cell_type": "markdown",
   "metadata": {},
   "source": [
    "We only have GHI values for a subset of the countries so we got rid of a little bit of data with missing values. Now we are ready to explore the relationship between the GHI and the kiva loans data."
   ]
  },
  {
   "cell_type": "markdown",
   "metadata": {},
   "source": [
    "# Exploring the Relationship Between GHI and Kiva Loans"
   ]
  },
  {
   "cell_type": "markdown",
   "metadata": {},
   "source": [
    "The first thing that we want to do is explore the relationship between the number of loans a country got and its GHI score."
   ]
  },
  {
   "cell_type": "code",
   "execution_count": 330,
   "metadata": {},
   "outputs": [
    {
     "data": {
      "image/png": "[encoded data removed]",
      "text/plain": [
       "<matplotlib.figure.Figure at 0x256f4402630>"
      ]
     },
     "metadata": {},
     "output_type": "display_data"
    }
   ],
   "source": [
    "import seaborn as sns\n",
    "d1 = d.groupby(['country','GHI'])['loan_amount'].count().reset_index(name='Number of Loans')\n",
    "plt.figure(figsize=(8,8))\n",
    "sns.regplot(x = d1.GHI, y = d1['Number of Loans'], fit_reg=False)\n",
    "plt.title(\"GHI vs Number of Loans\")\n",
    "plt.show()"
   ]
  },
  {
   "cell_type": "markdown",
   "metadata": {},
   "source": [
    "Now lets look and see if there is any relationship between GHI and total loan amounts for a country."
   ]
  },
  {
   "cell_type": "code",
   "execution_count": 331,
   "metadata": {},
   "outputs": [
    {
     "data": {
      "image/png": "[encoded data removed]",
      "text/plain": [
       "<matplotlib.figure.Figure at 0x256f3b7a3c8>"
      ]
     },
     "metadata": {},
     "output_type": "display_data"
    }
   ],
   "source": [
    "d2 = d.groupby(['country','GHI'])['loan_amount'].sum().reset_index(name='Total Loan Amount')\n",
    "plt.figure(figsize=(8,10))\n",
    "sns.regplot(x = d2.GHI, y = d2['Total Loan Amount'], fit_reg=True)\n",
    "plt.title(\"GHI vs Total Loan Amount\")\n",
    "plt.show()"
   ]
  },
  {
   "cell_type": "markdown",
   "metadata": {},
   "source": [
    "Now lets try mean loan amount by country"
   ]
  },
  {
   "cell_type": "code",
   "execution_count": 332,
   "metadata": {},
   "outputs": [
    {
     "data": {
      "image/png": "[encoded data removed]",
      "text/plain": [
       "<matplotlib.figure.Figure at 0x256f553eb00>"
      ]
     },
     "metadata": {},
     "output_type": "display_data"
    }
   ],
   "source": [
    "d3 = d.groupby(['country','GHI'])['loan_amount'].mean().reset_index(name='Mean Loan Amount')\n",
    "plt.figure(figsize=(8,8))\n",
    "sns.regplot(x = d3.GHI, y = d3['Mean Loan Amount'], fit_reg=True)\n",
    "plt.title(\"GHI vs Mean Loan Amount\")\n",
    "plt.show()"
   ]
  },
  {
   "cell_type": "markdown",
   "metadata": {},
   "source": [
    "It doesn't look like there is that much of a correlation between GHI and the loans. Lets try another approach."
   ]
  },
  {
   "cell_type": "markdown",
   "metadata": {},
   "source": [
    "# Trying MPI"
   ]
  },
  {
   "cell_type": "code",
   "execution_count": 333,
   "metadata": {
    "collapsed": true
   },
   "outputs": [],
   "source": [
    "loans2 = kiva_loans[['country', 'region', 'loan_amount','activity','sector',\n",
    "                    'borrower_genders', 'repayment_interval']]"
   ]
  },
  {
   "cell_type": "code",
   "execution_count": 334,
   "metadata": {},
   "outputs": [
    {
     "data": {
      "text/plain": [
       "country               671205\n",
       "region                614405\n",
       "loan_amount           671205\n",
       "activity              671205\n",
       "sector                671205\n",
       "borrower_genders      666984\n",
       "repayment_interval    671205\n",
       "LocationName           50955\n",
       "ISO                    52197\n",
       "world_region           52197\n",
       "MPI                    50955\n",
       "geo                    52197\n",
       "lat                    50953\n",
       "lon                    50953\n",
       "dtype: int64"
      ]
     },
     "execution_count": 334,
     "metadata": {},
     "output_type": "execute_result"
    }
   ],
   "source": [
    "d = pd.merge(loans2, region_locations, how='left')\n",
    "d.count()"
   ]
  },
  {
   "cell_type": "code",
   "execution_count": 335,
   "metadata": {},
   "outputs": [
    {
     "data": {
      "text/plain": [
       "country               0\n",
       "region                0\n",
       "loan_amount           0\n",
       "activity              0\n",
       "sector                0\n",
       "borrower_genders      0\n",
       "repayment_interval    0\n",
       "LocationName          0\n",
       "ISO                   0\n",
       "world_region          0\n",
       "MPI                   0\n",
       "geo                   0\n",
       "lat                   0\n",
       "lon                   0\n",
       "dtype: int64"
      ]
     },
     "execution_count": 335,
     "metadata": {},
     "output_type": "execute_result"
    }
   ],
   "source": [
    "d = d.dropna(subset=['MPI'])\n",
    "d = d.dropna(subset=['lat'])\n",
    "incomplete_rows = d[d.isnull().any(axis=1)]\n",
    "incomplete_rows.count()"
   ]
  },
  {
   "cell_type": "markdown",
   "metadata": {},
   "source": [
    "Now we have the Kiva loans data merged with the MPI data. Lets explore the relationships with MPI"
   ]
  },
  {
   "cell_type": "code",
   "execution_count": 336,
   "metadata": {},
   "outputs": [
    {
     "data": {
      "image/png": "[encoded data removed]",
      "text/plain": [
       "<matplotlib.figure.Figure at 0x256d019ce10>"
      ]
     },
     "metadata": {},
     "output_type": "display_data"
    }
   ],
   "source": [
    "d1 = d.groupby(['country','MPI'])['loan_amount'].count().reset_index(name='Number of Loans')\n",
    "plt.figure(figsize=(8,8))\n",
    "sns.regplot(x = d1.MPI, y = d1['Number of Loans'], fit_reg=False)\n",
    "plt.title(\"MPI vs Number of Loans\")\n",
    "plt.show()"
   ]
  },
  {
   "cell_type": "code",
   "execution_count": 337,
   "metadata": {},
   "outputs": [
    {
     "data": {
      "image/png": "[encoded data removed]",
      "text/plain": [
       "<matplotlib.figure.Figure at 0x256eb083780>"
      ]
     },
     "metadata": {},
     "output_type": "display_data"
    }
   ],
   "source": [
    "d2 = d.groupby(['country','MPI'])['loan_amount'].sum().reset_index(name='Total Loan Amount')\n",
    "plt.figure(figsize=(8,8))\n",
    "sns.regplot(x = d2.MPI, y = d2['Total Loan Amount'], fit_reg=True)\n",
    "plt.title(\"MPI vs Total Loan Amount\")\n",
    "plt.show()"
   ]
  },
  {
   "cell_type": "code",
   "execution_count": 338,
   "metadata": {},
   "outputs": [
    {
     "data": {
      "image/png": "[encoded data removed]",
      "text/plain": [
       "<matplotlib.figure.Figure at 0x256c7a7ca58>"
      ]
     },
     "metadata": {},
     "output_type": "display_data"
    }
   ],
   "source": [
    "d3 = d.groupby(['country','MPI'])['loan_amount'].mean().reset_index(name='Mean Loan Amount')\n",
    "plt.figure(figsize=(8,8))\n",
    "sns.regplot(x = d3.MPI, y = d3['Mean Loan Amount'], fit_reg=True, order=0)\n",
    "plt.title(\"MPI vs Mean Loan Amount\")\n",
    "plt.show()"
   ]
  },
  {
   "cell_type": "markdown",
   "metadata": {},
   "source": [
    "Again we can see a bit of a corrleation between the MPI and statistics about the loans but nothing that is really strong enough to do any machine learning with. Lets try bringing in another data set."
   ]
  },
  {
   "cell_type": "markdown",
   "metadata": {},
   "source": [
    "# A Bunch of New Poverty Measures"
   ]
  },
  {
   "cell_type": "code",
   "execution_count": 288,
   "metadata": {},
   "outputs": [
    {
     "name": "stdout",
     "output_type": "stream",
     "text": [
      "<class 'pandas.core.frame.DataFrame'>\n",
      "RangeIndex: 174 entries, 0 to 173\n",
      "Data columns (total 13 columns):\n",
      "country_name                     174 non-null object\n",
      "country_code                     173 non-null object\n",
      "country_code3                    173 non-null object\n",
      "continent                        174 non-null object\n",
      "region                           174 non-null object\n",
      "population                       174 non-null int64\n",
      "population_below_poverty_line    152 non-null float64\n",
      "hdi                              171 non-null float64\n",
      "life_expectancy                  168 non-null float64\n",
      "expected_years_of_schooling      168 non-null float64\n",
      "mean_years_of_schooling          168 non-null float64\n",
      "gni                              168 non-null float64\n",
      "kiva_country_name                174 non-null object\n",
      "dtypes: float64(6), int64(1), object(6)\n",
      "memory usage: 17.8+ KB\n"
     ]
    }
   ],
   "source": [
    "country_stats = pd.read_csv('country_stats.csv')\n",
    "country_stats.info()"
   ]
  },
  {
   "cell_type": "code",
   "execution_count": 289,
   "metadata": {},
   "outputs": [
    {
     "name": "stdout",
     "output_type": "stream",
     "text": [
      "<class 'pandas.core.frame.DataFrame'>\n",
      "RangeIndex: 174 entries, 0 to 173\n",
      "Data columns (total 9 columns):\n",
      "country                          174 non-null object\n",
      "region                           174 non-null object\n",
      "population                       174 non-null int64\n",
      "population_below_poverty_line    152 non-null float64\n",
      "hdi                              171 non-null float64\n",
      "life_expectancy                  168 non-null float64\n",
      "expected_years_of_schooling      168 non-null float64\n",
      "mean_years_of_schooling          168 non-null float64\n",
      "gni                              168 non-null float64\n",
      "dtypes: float64(6), int64(1), object(2)\n",
      "memory usage: 12.3+ KB\n"
     ]
    }
   ],
   "source": [
    "country_stats = country_stats.rename(columns={'kiva_country_name': 'country'})\n",
    "country_stats = country_stats[['country','region','population','population_below_poverty_line',\n",
    "                              'hdi','life_expectancy','expected_years_of_schooling',\n",
    "                               'mean_years_of_schooling','gni']]\n",
    "country_stats.info()"
   ]
  },
  {
   "cell_type": "code",
   "execution_count": 290,
   "metadata": {},
   "outputs": [
    {
     "data": {
      "text/plain": [
       "country                          671205\n",
       "loan_amount                      671205\n",
       "activity                         671205\n",
       "sector                           671205\n",
       "borrower_genders                 666984\n",
       "repayment_interval               671205\n",
       "region                           671182\n",
       "population                       671182\n",
       "population_below_poverty_line    654922\n",
       "hdi                              671039\n",
       "life_expectancy                  654057\n",
       "expected_years_of_schooling      654057\n",
       "mean_years_of_schooling          654057\n",
       "gni                              654057\n",
       "dtype: int64"
      ]
     },
     "execution_count": 290,
     "metadata": {},
     "output_type": "execute_result"
    }
   ],
   "source": [
    "d = pd.merge(loans, country_stats, how='left')\n",
    "d.count()"
   ]
  },
  {
   "cell_type": "code",
   "execution_count": 291,
   "metadata": {
    "collapsed": true
   },
   "outputs": [],
   "source": [
    "just_loan_and_country = d[['country','loan_amount']]"
   ]
  },
  {
   "cell_type": "code",
   "execution_count": 292,
   "metadata": {},
   "outputs": [
    {
     "name": "stdout",
     "output_type": "stream",
     "text": [
      "<class 'pandas.core.frame.DataFrame'>\n",
      "RangeIndex: 87 entries, 0 to 86\n",
      "Data columns (total 2 columns):\n",
      "country            87 non-null object\n",
      "number_of_loans    87 non-null int64\n",
      "dtypes: int64(1), object(1)\n",
      "memory usage: 1.4+ KB\n"
     ]
    }
   ],
   "source": [
    "number_of_loans = just_loan_and_country.groupby(['country'])['loan_amount'].count().reset_index(name='number_of_loans')\n",
    "number_of_loans.info()"
   ]
  },
  {
   "cell_type": "code",
   "execution_count": 293,
   "metadata": {},
   "outputs": [
    {
     "name": "stdout",
     "output_type": "stream",
     "text": [
      "<class 'pandas.core.frame.DataFrame'>\n",
      "RangeIndex: 87 entries, 0 to 86\n",
      "Data columns (total 2 columns):\n",
      "country              87 non-null object\n",
      "total_loan_amount    87 non-null float64\n",
      "dtypes: float64(1), object(1)\n",
      "memory usage: 1.4+ KB\n"
     ]
    }
   ],
   "source": [
    "total_loan_amount = just_loan_and_country.groupby(['country'])['loan_amount'].sum().reset_index(name='total_loan_amount')\n",
    "total_loan_amount.info()"
   ]
  },
  {
   "cell_type": "code",
   "execution_count": 294,
   "metadata": {},
   "outputs": [
    {
     "name": "stdout",
     "output_type": "stream",
     "text": [
      "<class 'pandas.core.frame.DataFrame'>\n",
      "Int64Index: 671205 entries, 0 to 671204\n",
      "Data columns (total 8 columns):\n",
      "country                          671205 non-null object\n",
      "population                       671182 non-null float64\n",
      "population_below_poverty_line    654922 non-null float64\n",
      "hdi                              671039 non-null float64\n",
      "life_expectancy                  654057 non-null float64\n",
      "expected_years_of_schooling      654057 non-null float64\n",
      "mean_years_of_schooling          654057 non-null float64\n",
      "gni                              654057 non-null float64\n",
      "dtypes: float64(7), object(1)\n",
      "memory usage: 46.1+ MB\n"
     ]
    }
   ],
   "source": [
    "d = d[['country','population','population_below_poverty_line',\n",
    "                              'hdi','life_expectancy','expected_years_of_schooling',\n",
    "                               'mean_years_of_schooling','gni']]\n",
    "d.info()"
   ]
  },
  {
   "cell_type": "code",
   "execution_count": 295,
   "metadata": {
    "collapsed": true
   },
   "outputs": [],
   "source": [
    "loan_info = pd.merge(total_loan_amount,number_of_loans, how='left')\n",
    "d = pd.merge(d, loan_info, how='left')"
   ]
  },
  {
   "cell_type": "code",
   "execution_count": 296,
   "metadata": {},
   "outputs": [
    {
     "name": "stdout",
     "output_type": "stream",
     "text": [
      "<class 'pandas.core.frame.DataFrame'>\n",
      "Int64Index: 653503 entries, 0 to 671204\n",
      "Data columns (total 10 columns):\n",
      "country                          653503 non-null object\n",
      "population                       653503 non-null float64\n",
      "population_below_poverty_line    653503 non-null float64\n",
      "hdi                              653503 non-null float64\n",
      "life_expectancy                  653503 non-null float64\n",
      "expected_years_of_schooling      653503 non-null float64\n",
      "mean_years_of_schooling          653503 non-null float64\n",
      "gni                              653503 non-null float64\n",
      "total_loan_amount                653503 non-null float64\n",
      "number_of_loans                  653503 non-null int64\n",
      "dtypes: float64(8), int64(1), object(1)\n",
      "memory usage: 54.8+ MB\n"
     ]
    }
   ],
   "source": [
    "d = d.dropna(axis=0, how='any')\n",
    "d.info()"
   ]
  },
  {
   "cell_type": "code",
   "execution_count": 297,
   "metadata": {
    "collapsed": true
   },
   "outputs": [],
   "source": [
    "d['mean_loan_amount'] = d['total_loan_amount']/d['number_of_loans']"
   ]
  },
  {
   "cell_type": "code",
   "execution_count": 298,
   "metadata": {},
   "outputs": [
    {
     "name": "stdout",
     "output_type": "stream",
     "text": [
      "<class 'pandas.core.frame.DataFrame'>\n",
      "Int64Index: 653503 entries, 0 to 671204\n",
      "Data columns (total 11 columns):\n",
      "country                          653503 non-null object\n",
      "population                       653503 non-null float64\n",
      "population_below_poverty_line    653503 non-null float64\n",
      "hdi                              653503 non-null float64\n",
      "life_expectancy                  653503 non-null float64\n",
      "expected_years_of_schooling      653503 non-null float64\n",
      "mean_years_of_schooling          653503 non-null float64\n",
      "gni                              653503 non-null float64\n",
      "total_loan_amount                653503 non-null float64\n",
      "number_of_loans                  653503 non-null int64\n",
      "mean_loan_amount                 653503 non-null float64\n",
      "dtypes: float64(9), int64(1), object(1)\n",
      "memory usage: 59.8+ MB\n"
     ]
    }
   ],
   "source": [
    "d.info()"
   ]
  },
  {
   "cell_type": "code",
   "execution_count": 299,
   "metadata": {},
   "outputs": [
    {
     "data": {
      "text/html": [
       "<div>\n",
       "<style>\n",
       "    .dataframe thead tr:only-child th {\n",
       "        text-align: right;\n",
       "    }\n",
       "\n",
       "    .dataframe thead th {\n",
       "        text-align: left;\n",
       "    }\n",
       "\n",
       "    .dataframe tbody tr th {\n",
       "        vertical-align: top;\n",
       "    }\n",
       "</style>\n",
       "<table border=\"1\" class=\"dataframe\">\n",
       "  <thead>\n",
       "    <tr style=\"text-align: right;\">\n",
       "      <th></th>\n",
       "      <th>population</th>\n",
       "      <th>population_below_poverty_line</th>\n",
       "      <th>hdi</th>\n",
       "      <th>life_expectancy</th>\n",
       "      <th>expected_years_of_schooling</th>\n",
       "      <th>mean_years_of_schooling</th>\n",
       "      <th>gni</th>\n",
       "      <th>total_loan_amount</th>\n",
       "      <th>number_of_loans</th>\n",
       "      <th>mean_loan_amount</th>\n",
       "    </tr>\n",
       "  </thead>\n",
       "  <tbody>\n",
       "    <tr>\n",
       "      <th>population</th>\n",
       "      <td>1.000000</td>\n",
       "      <td>-0.150172</td>\n",
       "      <td>0.051417</td>\n",
       "      <td>-0.023801</td>\n",
       "      <td>-0.034618</td>\n",
       "      <td>0.019325</td>\n",
       "      <td>0.129590</td>\n",
       "      <td>-0.021841</td>\n",
       "      <td>0.030219</td>\n",
       "      <td>-0.049455</td>\n",
       "    </tr>\n",
       "    <tr>\n",
       "      <th>population_below_poverty_line</th>\n",
       "      <td>-0.150172</td>\n",
       "      <td>1.000000</td>\n",
       "      <td>-0.535735</td>\n",
       "      <td>-0.522166</td>\n",
       "      <td>-0.318695</td>\n",
       "      <td>-0.439826</td>\n",
       "      <td>-0.342654</td>\n",
       "      <td>-0.351682</td>\n",
       "      <td>-0.304330</td>\n",
       "      <td>-0.010367</td>\n",
       "    </tr>\n",
       "    <tr>\n",
       "      <th>hdi</th>\n",
       "      <td>0.051417</td>\n",
       "      <td>-0.535735</td>\n",
       "      <td>1.000000</td>\n",
       "      <td>0.847618</td>\n",
       "      <td>0.839387</td>\n",
       "      <td>0.813857</td>\n",
       "      <td>0.763552</td>\n",
       "      <td>0.338258</td>\n",
       "      <td>0.232859</td>\n",
       "      <td>0.241745</td>\n",
       "    </tr>\n",
       "    <tr>\n",
       "      <th>life_expectancy</th>\n",
       "      <td>-0.023801</td>\n",
       "      <td>-0.522166</td>\n",
       "      <td>0.847618</td>\n",
       "      <td>1.000000</td>\n",
       "      <td>0.717923</td>\n",
       "      <td>0.516485</td>\n",
       "      <td>0.573171</td>\n",
       "      <td>0.046894</td>\n",
       "      <td>-0.072171</td>\n",
       "      <td>0.321454</td>\n",
       "    </tr>\n",
       "    <tr>\n",
       "      <th>expected_years_of_schooling</th>\n",
       "      <td>-0.034618</td>\n",
       "      <td>-0.318695</td>\n",
       "      <td>0.839387</td>\n",
       "      <td>0.717923</td>\n",
       "      <td>1.000000</td>\n",
       "      <td>0.623784</td>\n",
       "      <td>0.651332</td>\n",
       "      <td>0.138755</td>\n",
       "      <td>0.004929</td>\n",
       "      <td>0.330415</td>\n",
       "    </tr>\n",
       "    <tr>\n",
       "      <th>mean_years_of_schooling</th>\n",
       "      <td>0.019325</td>\n",
       "      <td>-0.439826</td>\n",
       "      <td>0.813857</td>\n",
       "      <td>0.516485</td>\n",
       "      <td>0.623784</td>\n",
       "      <td>1.000000</td>\n",
       "      <td>0.570821</td>\n",
       "      <td>0.491430</td>\n",
       "      <td>0.437597</td>\n",
       "      <td>0.120854</td>\n",
       "    </tr>\n",
       "    <tr>\n",
       "      <th>gni</th>\n",
       "      <td>0.129590</td>\n",
       "      <td>-0.342654</td>\n",
       "      <td>0.763552</td>\n",
       "      <td>0.573171</td>\n",
       "      <td>0.651332</td>\n",
       "      <td>0.570821</td>\n",
       "      <td>1.000000</td>\n",
       "      <td>0.182967</td>\n",
       "      <td>0.074298</td>\n",
       "      <td>0.497922</td>\n",
       "    </tr>\n",
       "    <tr>\n",
       "      <th>total_loan_amount</th>\n",
       "      <td>-0.021841</td>\n",
       "      <td>-0.351682</td>\n",
       "      <td>0.338258</td>\n",
       "      <td>0.046894</td>\n",
       "      <td>0.138755</td>\n",
       "      <td>0.491430</td>\n",
       "      <td>0.182967</td>\n",
       "      <td>1.000000</td>\n",
       "      <td>0.954174</td>\n",
       "      <td>-0.339516</td>\n",
       "    </tr>\n",
       "    <tr>\n",
       "      <th>number_of_loans</th>\n",
       "      <td>0.030219</td>\n",
       "      <td>-0.304330</td>\n",
       "      <td>0.232859</td>\n",
       "      <td>-0.072171</td>\n",
       "      <td>0.004929</td>\n",
       "      <td>0.437597</td>\n",
       "      <td>0.074298</td>\n",
       "      <td>0.954174</td>\n",
       "      <td>1.000000</td>\n",
       "      <td>-0.497136</td>\n",
       "    </tr>\n",
       "    <tr>\n",
       "      <th>mean_loan_amount</th>\n",
       "      <td>-0.049455</td>\n",
       "      <td>-0.010367</td>\n",
       "      <td>0.241745</td>\n",
       "      <td>0.321454</td>\n",
       "      <td>0.330415</td>\n",
       "      <td>0.120854</td>\n",
       "      <td>0.497922</td>\n",
       "      <td>-0.339516</td>\n",
       "      <td>-0.497136</td>\n",
       "      <td>1.000000</td>\n",
       "    </tr>\n",
       "  </tbody>\n",
       "</table>\n",
       "</div>"
      ],
      "text/plain": [
       "                               population  population_below_poverty_line  \\\n",
       "population                       1.000000                      -0.150172   \n",
       "population_below_poverty_line   -0.150172                       1.000000   \n",
       "hdi                              0.051417                      -0.535735   \n",
       "life_expectancy                 -0.023801                      -0.522166   \n",
       "expected_years_of_schooling     -0.034618                      -0.318695   \n",
       "mean_years_of_schooling          0.019325                      -0.439826   \n",
       "gni                              0.129590                      -0.342654   \n",
       "total_loan_amount               -0.021841                      -0.351682   \n",
       "number_of_loans                  0.030219                      -0.304330   \n",
       "mean_loan_amount                -0.049455                      -0.010367   \n",
       "\n",
       "                                    hdi  life_expectancy  \\\n",
       "population                     0.051417        -0.023801   \n",
       "population_below_poverty_line -0.535735        -0.522166   \n",
       "hdi                            1.000000         0.847618   \n",
       "life_expectancy                0.847618         1.000000   \n",
       "expected_years_of_schooling    0.839387         0.717923   \n",
       "mean_years_of_schooling        0.813857         0.516485   \n",
       "gni                            0.763552         0.573171   \n",
       "total_loan_amount              0.338258         0.046894   \n",
       "number_of_loans                0.232859        -0.072171   \n",
       "mean_loan_amount               0.241745         0.321454   \n",
       "\n",
       "                               expected_years_of_schooling  \\\n",
       "population                                       -0.034618   \n",
       "population_below_poverty_line                    -0.318695   \n",
       "hdi                                               0.839387   \n",
       "life_expectancy                                   0.717923   \n",
       "expected_years_of_schooling                       1.000000   \n",
       "mean_years_of_schooling                           0.623784   \n",
       "gni                                               0.651332   \n",
       "total_loan_amount                                 0.138755   \n",
       "number_of_loans                                   0.004929   \n",
       "mean_loan_amount                                  0.330415   \n",
       "\n",
       "                               mean_years_of_schooling       gni  \\\n",
       "population                                    0.019325  0.129590   \n",
       "population_below_poverty_line                -0.439826 -0.342654   \n",
       "hdi                                           0.813857  0.763552   \n",
       "life_expectancy                               0.516485  0.573171   \n",
       "expected_years_of_schooling                   0.623784  0.651332   \n",
       "mean_years_of_schooling                       1.000000  0.570821   \n",
       "gni                                           0.570821  1.000000   \n",
       "total_loan_amount                             0.491430  0.182967   \n",
       "number_of_loans                               0.437597  0.074298   \n",
       "mean_loan_amount                              0.120854  0.497922   \n",
       "\n",
       "                               total_loan_amount  number_of_loans  \\\n",
       "population                             -0.021841         0.030219   \n",
       "population_below_poverty_line          -0.351682        -0.304330   \n",
       "hdi                                     0.338258         0.232859   \n",
       "life_expectancy                         0.046894        -0.072171   \n",
       "expected_years_of_schooling             0.138755         0.004929   \n",
       "mean_years_of_schooling                 0.491430         0.437597   \n",
       "gni                                     0.182967         0.074298   \n",
       "total_loan_amount                       1.000000         0.954174   \n",
       "number_of_loans                         0.954174         1.000000   \n",
       "mean_loan_amount                       -0.339516        -0.497136   \n",
       "\n",
       "                               mean_loan_amount  \n",
       "population                            -0.049455  \n",
       "population_below_poverty_line         -0.010367  \n",
       "hdi                                    0.241745  \n",
       "life_expectancy                        0.321454  \n",
       "expected_years_of_schooling            0.330415  \n",
       "mean_years_of_schooling                0.120854  \n",
       "gni                                    0.497922  \n",
       "total_loan_amount                     -0.339516  \n",
       "number_of_loans                       -0.497136  \n",
       "mean_loan_amount                       1.000000  "
      ]
     },
     "execution_count": 299,
     "metadata": {},
     "output_type": "execute_result"
    }
   ],
   "source": [
    "corr_mat = d.corr()\n",
    "corr_mat"
   ]
  },
  {
   "cell_type": "markdown",
   "metadata": {},
   "source": [
    "Now we have some data that we could do some machine learning with. We have got rid of a lot of the extraneous data and now we are down to just the countries, several measures of poverty, and some loan data. Lets look at the total loan amount. I think this is a good indicator of how poor a country is and how in need of loans that they are. If the total loan amount is above the mean for this data, we can say that these countries are most in need. Lets add a column for this class and see if we can create a classfier with the measures of poverty"
   ]
  },
  {
   "cell_type": "markdown",
   "metadata": {},
   "source": [
    "# Prepping Data for ML"
   ]
  },
  {
   "cell_type": "code",
   "execution_count": 300,
   "metadata": {
    "collapsed": true
   },
   "outputs": [],
   "source": [
    "d['in_need'] = np.where(d['total_loan_amount']>d['total_loan_amount'].mean(), 1, 0)"
   ]
  },
  {
   "cell_type": "code",
   "execution_count": 301,
   "metadata": {},
   "outputs": [
    {
     "name": "stdout",
     "output_type": "stream",
     "text": [
      "<class 'pandas.core.frame.DataFrame'>\n",
      "Int64Index: 653503 entries, 0 to 671204\n",
      "Data columns (total 7 columns):\n",
      "population_below_poverty_line    653503 non-null float64\n",
      "hdi                              653503 non-null float64\n",
      "life_expectancy                  653503 non-null float64\n",
      "expected_years_of_schooling      653503 non-null float64\n",
      "mean_years_of_schooling          653503 non-null float64\n",
      "gni                              653503 non-null float64\n",
      "in_need                          653503 non-null int32\n",
      "dtypes: float64(6), int32(1)\n",
      "memory usage: 37.4 MB\n"
     ]
    }
   ],
   "source": [
    "d = d[['population_below_poverty_line',\n",
    "                              'hdi','life_expectancy','expected_years_of_schooling',\n",
    "                               'mean_years_of_schooling','gni','in_need']]\n",
    "d.info()"
   ]
  },
  {
   "cell_type": "code",
   "execution_count": 302,
   "metadata": {
    "collapsed": true
   },
   "outputs": [],
   "source": [
    "from sklearn.model_selection import train_test_split\n",
    "train_set, test_set = train_test_split(d)\n",
    "\n",
    "x_train = train_set.drop(['in_need'], axis=1)\n",
    "y_train = train_set['in_need']\n",
    "x_test = test_set.drop(['in_need'], axis=1)\n",
    "y_test = test_set['in_need']"
   ]
  },
  {
   "cell_type": "code",
   "execution_count": 303,
   "metadata": {},
   "outputs": [
    {
     "data": {
      "text/plain": [
       "DecisionTreeClassifier(class_weight=None, criterion='gini', max_depth=2,\n",
       "            max_features=None, max_leaf_nodes=None,\n",
       "            min_impurity_decrease=0.0, min_impurity_split=None,\n",
       "            min_samples_leaf=1, min_samples_split=2,\n",
       "            min_weight_fraction_leaf=0.0, presort=False, random_state=None,\n",
       "            splitter='best')"
      ]
     },
     "execution_count": 303,
     "metadata": {},
     "output_type": "execute_result"
    }
   ],
   "source": [
    "from sklearn.tree import DecisionTreeClassifier\n",
    "\n",
    "clf = DecisionTreeClassifier(max_depth=2)\n",
    "clf.fit(x_train, y_train)"
   ]
  },
  {
   "cell_type": "code",
   "execution_count": 304,
   "metadata": {},
   "outputs": [
    {
     "data": {
      "text/plain": [
       "array([ 0.87275064,  0.87245216,  0.87065261])"
      ]
     },
     "execution_count": 304,
     "metadata": {},
     "output_type": "execute_result"
    }
   ],
   "source": [
    "from sklearn.model_selection import cross_val_score\n",
    "cross_val_score(clf, x_test, y_test, cv=3, scoring=\"accuracy\")"
   ]
  },
  {
   "cell_type": "code",
   "execution_count": 305,
   "metadata": {
    "collapsed": true
   },
   "outputs": [],
   "source": [
    "from sklearn.model_selection import cross_val_predict\n",
    "\n",
    "y_test_pred = cross_val_predict(clf, x_test, y_test, cv=3)"
   ]
  },
  {
   "cell_type": "code",
   "execution_count": 306,
   "metadata": {},
   "outputs": [
    {
     "data": {
      "text/plain": [
       "array([[78087, 16435],\n",
       "       [ 4485, 64369]], dtype=int64)"
      ]
     },
     "execution_count": 306,
     "metadata": {},
     "output_type": "execute_result"
    }
   ],
   "source": [
    "from sklearn.metrics import confusion_matrix\n",
    "\n",
    "confusion_matrix(y_test, y_test_pred)"
   ]
  },
  {
   "cell_type": "code",
   "execution_count": 307,
   "metadata": {},
   "outputs": [
    {
     "data": {
      "text/plain": [
       "0.79660660363348346"
      ]
     },
     "execution_count": 307,
     "metadata": {},
     "output_type": "execute_result"
    }
   ],
   "source": [
    "from sklearn.metrics import precision_score, recall_score\n",
    "\n",
    "precision_score(y_test, y_test_pred)"
   ]
  },
  {
   "cell_type": "code",
   "execution_count": 308,
   "metadata": {},
   "outputs": [
    {
     "data": {
      "text/plain": [
       "0.93486217213233802"
      ]
     },
     "execution_count": 308,
     "metadata": {},
     "output_type": "execute_result"
    }
   ],
   "source": [
    "from sklearn.metrics import precision_score, recall_score\n",
    "\n",
    "recall_score(y_test, y_test_pred)"
   ]
  },
  {
   "cell_type": "code",
   "execution_count": 309,
   "metadata": {},
   "outputs": [
    {
     "data": {
      "text/plain": [
       "0.86021462267302784"
      ]
     },
     "execution_count": 309,
     "metadata": {},
     "output_type": "execute_result"
    }
   ],
   "source": [
    "from sklearn.metrics import f1_score\n",
    "f1_score(y_test, y_test_pred)"
   ]
  },
  {
   "cell_type": "code",
   "execution_count": 313,
   "metadata": {},
   "outputs": [],
   "source": [
    "from sklearn.metrics import roc_curve\n",
    "\n",
    "fpr, tpr, thresholds = roc_curve(y_test, y_test_pred)"
   ]
  },
  {
   "cell_type": "code",
   "execution_count": 314,
   "metadata": {},
   "outputs": [
    {
     "data": {
      "image/png": "[encoded data removed]",
      "text/plain": [
       "<matplotlib.figure.Figure at 0x256bda483c8>"
      ]
     },
     "metadata": {},
     "output_type": "display_data"
    }
   ],
   "source": [
    "def plot_roc_curve(fpr, tpr, label=None):\n",
    "    plt.plot(fpr, tpr, linewidth=2, label=label)\n",
    "    plt.plot([0, 1], [0, 1], 'k--')\n",
    "    plt.axis([0, 1, 0, 1])\n",
    "    plt.xlabel('False Positive Rate', fontsize=16)\n",
    "    plt.ylabel('True Positive Rate', fontsize=16)\n",
    "\n",
    "plt.figure(figsize=(8, 6))\n",
    "plot_roc_curve(fpr, tpr)\n",
    "plt.show()"
   ]
  },
  {
   "cell_type": "markdown",
   "metadata": {
    "collapsed": true
   },
   "source": [
    "# Conclusion"
   ]
  },
  {
   "cell_type": "markdown",
   "metadata": {},
   "source": [
    "Kiva is looking for a way to determine poverty to determine who needs their loans the most. If we were to take into consideration poverty measures such as population below poverty line, hdi, life expectancy, schooling, and gni, we can start to build a bigger picture of which countries are actually in need of Kiva loans. If we classify the countries with a total loan amount greater than the mean total loan amount as countries in need we can use a classifier to determine whether a particular loan should be approved or not.\n",
    "\n",
    "Using the poverty measures I have just mentioned in conjunction with the country of the borrower, my decision tree model does a pretty good job of predicting whether or not a particular borrower is in a country that is in need of Kiva loans."
   ]
  },
  {
   "cell_type": "markdown",
   "metadata": {},
   "source": [
    "# Files Used"
   ]
  },
  {
   "cell_type": "markdown",
   "metadata": {},
   "source": [
    "GHI dataset from: https://dataverse.harvard.edu/dataset.xhtml?persistentId=doi:10.7910/DVN/ZTCWYQ\n",
    "country_stats dataset from: https://www.kaggle.com/gaborfodor/external-data-for-kiva-crowdfunding/data\n",
    "rest of the data is from the Kiva datasets"
   ]
  }
 ],
 "metadata": {
  "kernelspec": {
   "display_name": "Python 3",
   "language": "python",
   "name": "python3"
  },
  "language_info": {
   "codemirror_mode": {
    "name": "ipython",
    "version": 3
   },
   "file_extension": ".py",
   "mimetype": "text/x-python",
   "name": "python",
   "nbconvert_exporter": "python",
   "pygments_lexer": "ipython3",
   "version": "3.7.3"
  }
 },
 "nbformat": 4,
 "nbformat_minor": 2
}
